{
 "cells": [
  {
   "cell_type": "markdown",
   "id": "7b399e57-4aab-44d6-b7b9-d237b38bbf11",
   "metadata": {},
   "source": [
    "#1. Write a program to print numbers from  1 to 10, but stop if the number is 5."
   ]
  },
  {
   "cell_type": "code",
   "execution_count": 1,
   "id": "a89244a9-df25-48ea-9547-70a8955b0a44",
   "metadata": {},
   "outputs": [
    {
     "name": "stdout",
     "output_type": "stream",
     "text": [
      "1\n",
      "2\n",
      "3\n",
      "4\n"
     ]
    }
   ],
   "source": [
    "num = 1\n",
    "while num <= 10:\n",
    "    if num == 5:\n",
    "        break\n",
    "    print(num)\n",
    "    num += 1"
   ]
  },
  {
   "cell_type": "code",
   "execution_count": null,
   "id": "d3e35678-3035-4695-a7f0-6342d01d7f8d",
   "metadata": {},
   "outputs": [],
   "source": []
  },
  {
   "cell_type": "markdown",
   "id": "4cd363ca-c457-4b75-8d47-e4d1e9db0783",
   "metadata": {},
   "source": [
    "#2. Write a program to iterate through a list and stop when encountering a specific element."
   ]
  },
  {
   "cell_type": "code",
   "execution_count": 2,
   "id": "0ae327bc-0066-448d-aa3b-944eb2ad19d1",
   "metadata": {},
   "outputs": [
    {
     "name": "stdout",
     "output_type": "stream",
     "text": [
      "Ram\n",
      "Shyam\n",
      "Ajay\n"
     ]
    }
   ],
   "source": [
    "list1 = [\"Ram\", \"Shyam\", \"Ajay\", \"Bijay\", \"Sanjay\", \"Dhananjay\"]\n",
    "element = \"Bijay\"\n",
    "for items in list1:\n",
    "    if items == element:\n",
    "        break\n",
    "    print(items)"
   ]
  },
  {
   "cell_type": "code",
   "execution_count": null,
   "id": "6ae1b1f1-ef25-407f-860a-e838a48322eb",
   "metadata": {},
   "outputs": [],
   "source": []
  },
  {
   "cell_type": "markdown",
   "id": "546aa169-f95e-4458-b1fa-5713da7f8919",
   "metadata": {},
   "source": [
    "#3 Write a program to skip printing even numbers from  1 to 10."
   ]
  },
  {
   "cell_type": "code",
   "execution_count": 2,
   "id": "14646287-0bcf-4b6c-8bfa-6cd3bac786ef",
   "metadata": {},
   "outputs": [
    {
     "name": "stdout",
     "output_type": "stream",
     "text": [
      "1\n",
      "3\n",
      "5\n",
      "7\n",
      "9\n"
     ]
    }
   ],
   "source": [
    "num = 1\n",
    "while num <= 10:\n",
    "    if num % 2 != 0:\n",
    "        print(num)\n",
    "    num += 1"
   ]
  },
  {
   "cell_type": "code",
   "execution_count": null,
   "id": "c6999e88-3adc-4e93-8892-aa671fb5ea25",
   "metadata": {},
   "outputs": [],
   "source": []
  },
  {
   "cell_type": "markdown",
   "id": "4d7fe923-6023-4047-bca7-f56ed192c504",
   "metadata": {},
   "source": [
    "#4. Write a program to print numbers from 0 to 9 using range()."
   ]
  },
  {
   "cell_type": "code",
   "execution_count": 3,
   "id": "699e653e-b553-47e9-94c8-964ea299f941",
   "metadata": {},
   "outputs": [
    {
     "name": "stdout",
     "output_type": "stream",
     "text": [
      "0\n",
      "1\n",
      "2\n",
      "3\n",
      "4\n",
      "5\n",
      "6\n",
      "7\n",
      "8\n",
      "9\n"
     ]
    }
   ],
   "source": [
    "for i in range(0,10):\n",
    "    print(i)"
   ]
  },
  {
   "cell_type": "code",
   "execution_count": null,
   "id": "61d17fa6-123d-466f-bda7-2d6f65349c07",
   "metadata": {},
   "outputs": [],
   "source": []
  },
  {
   "cell_type": "markdown",
   "id": "67559e2f-51ac-4042-8c3e-dc456495be82",
   "metadata": {},
   "source": [
    "#5. Write a program to print multiplication tables from 1 to 5, but stop after the first table is printed for each number."
   ]
  },
  {
   "cell_type": "code",
   "execution_count": 5,
   "id": "aca70cc4-75a7-4086-960a-fe695f3c29af",
   "metadata": {},
   "outputs": [
    {
     "name": "stdout",
     "output_type": "stream",
     "text": [
      "The multiplication table of  1 is\n",
      "1  X  1  =  1\n",
      "\n",
      "The multiplication table of  2 is\n",
      "2  X  1  =  2\n",
      "\n",
      "The multiplication table of  3 is\n",
      "3  X  1  =  3\n",
      "\n",
      "The multiplication table of  4 is\n",
      "4  X  1  =  4\n",
      "\n",
      "The multiplication table of  5 is\n",
      "5  X  1  =  5\n",
      "\n",
      "The multiplication table of  6 is\n",
      "6  X  1  =  6\n",
      "\n",
      "The multiplication table of  7 is\n",
      "7  X  1  =  7\n",
      "\n",
      "The multiplication table of  8 is\n",
      "8  X  1  =  8\n",
      "\n",
      "The multiplication table of  9 is\n",
      "9  X  1  =  9\n",
      "\n"
     ]
    }
   ],
   "source": [
    "for i in range(1,10):\n",
    "    print(\"The multiplication table of \", i, \"is\")\n",
    "    for j in range(1,11):\n",
    "        if j == 2:\n",
    "            break\n",
    "        print(i,\" X \", j, \" = \", (i*j))\n",
    "    print()"
   ]
  },
  {
   "cell_type": "code",
   "execution_count": null,
   "id": "84dc1e81-446c-433a-9615-39cbbe4bfe76",
   "metadata": {},
   "outputs": [],
   "source": []
  },
  {
   "cell_type": "markdown",
   "id": "32269bca-7786-4049-9e89-cc870d4f1a84",
   "metadata": {},
   "source": [
    "#6. Write a program to skip printing even numbers using a while loop."
   ]
  },
  {
   "cell_type": "code",
   "execution_count": 9,
   "id": "747c9356-cded-4963-ac8b-a360cae8977f",
   "metadata": {},
   "outputs": [
    {
     "name": "stdin",
     "output_type": "stream",
     "text": [
      "Enter a number :  65\n"
     ]
    },
    {
     "name": "stdout",
     "output_type": "stream",
     "text": [
      "The odd numbers between  1 and 65 is\n",
      "1\n",
      "3\n",
      "5\n",
      "7\n",
      "9\n",
      "11\n",
      "13\n",
      "15\n",
      "17\n",
      "19\n",
      "21\n",
      "23\n",
      "25\n",
      "27\n",
      "29\n",
      "31\n",
      "33\n",
      "35\n",
      "37\n",
      "39\n",
      "41\n",
      "43\n",
      "45\n",
      "47\n",
      "49\n",
      "51\n",
      "53\n",
      "55\n",
      "57\n",
      "59\n",
      "61\n",
      "63\n",
      "65\n"
     ]
    }
   ],
   "source": [
    "num1 = 1\n",
    "num2 = int(input(\"Enter a number : \"))\n",
    "print(\"The odd numbers between \", num1, \"and\", num2, \"is\")\n",
    "while num1 <= num2:\n",
    "    if num1 % 2 != 0:\n",
    "        print(num1)\n",
    "    num1 += 1"
   ]
  },
  {
   "cell_type": "code",
   "execution_count": null,
   "id": "d09a2d3b-4183-4e5d-b64a-8c3e1584b6ea",
   "metadata": {},
   "outputs": [],
   "source": []
  },
  {
   "cell_type": "code",
   "execution_count": null,
   "id": "845ac2bc-e964-4b97-888f-7113055d3993",
   "metadata": {},
   "outputs": [],
   "source": []
  },
  {
   "cell_type": "code",
   "execution_count": null,
   "id": "a677dd16-9435-4d41-9829-d16d6dc8da6b",
   "metadata": {},
   "outputs": [],
   "source": []
  }
 ],
 "metadata": {
  "kernelspec": {
   "display_name": "Python 3 (ipykernel)",
   "language": "python",
   "name": "python3"
  },
  "language_info": {
   "codemirror_mode": {
    "name": "ipython",
    "version": 3
   },
   "file_extension": ".py",
   "mimetype": "text/x-python",
   "name": "python",
   "nbconvert_exporter": "python",
   "pygments_lexer": "ipython3",
   "version": "3.10.8"
  }
 },
 "nbformat": 4,
 "nbformat_minor": 5
}
