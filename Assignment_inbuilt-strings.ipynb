{
 "cells": [
  {
   "cell_type": "markdown",
   "id": "22a0a86a-70dd-4cb7-8e35-caf061f28add",
   "metadata": {},
   "source": [
    "#1. What is the purpose of the len() function in Python, and how can it be used with strings?"
   ]
  },
  {
   "cell_type": "markdown",
   "id": "d1435197-897b-4ad9-b359-6e3932fcdd88",
   "metadata": {},
   "source": [
    "Solution >> In Python, the len() function is used to get the length of an object such as a string, tuple, list, dictionary or set. The length returned is the number of items in the object."
   ]
  },
  {
   "cell_type": "code",
   "execution_count": 4,
   "id": "ee7f7540-3c8f-406b-934b-e75aa78bd374",
   "metadata": {},
   "outputs": [
    {
     "name": "stdout",
     "output_type": "stream",
     "text": [
      "11\n"
     ]
    }
   ],
   "source": [
    "Str1 = \"Hello World\"\n",
    "length_of_Str1 = len(Str1)\n",
    "print(length_of_Str1)"
   ]
  },
  {
   "cell_type": "code",
   "execution_count": null,
   "id": "8c8bcd35-4583-4a0b-aeb3-c4992a44cea3",
   "metadata": {},
   "outputs": [],
   "source": []
  },
  {
   "cell_type": "markdown",
   "id": "4e3164fc-5fb9-4944-afb6-5cad9fe10122",
   "metadata": {},
   "source": [
    "#2. How can you concatenate two or more strings in Python, and can you provide an example of string concatenation?"
   ]
  },
  {
   "cell_type": "markdown",
   "id": "58fa3988-0f3d-4e24-b677-340ad0b5c7f5",
   "metadata": {},
   "source": [
    "Solution >> To concatenate strings, simply \" + \" operator is used in between the strings."
   ]
  },
  {
   "cell_type": "code",
   "execution_count": 7,
   "id": "97665e06-9b6b-4f84-9956-5f4b8c0d79d6",
   "metadata": {},
   "outputs": [
    {
     "name": "stdout",
     "output_type": "stream",
     "text": [
      "Hello World !\n"
     ]
    }
   ],
   "source": [
    "msg_1 = \"Hello\"\n",
    "msg_2 = \"World !\"\n",
    "msg = msg_1 + \" \" + msg_2\n",
    "print(msg)"
   ]
  },
  {
   "cell_type": "code",
   "execution_count": null,
   "id": "e600dc82-0483-4edd-a054-6447335cb1e1",
   "metadata": {},
   "outputs": [],
   "source": []
  },
  {
   "cell_type": "markdown",
   "id": "1ed97c85-72e0-4246-985a-9023fc7168fa",
   "metadata": {},
   "source": [
    "#3. What is string slicing in Python, and how can you extract a portion of a string using this method?"
   ]
  },
  {
   "cell_type": "markdown",
   "id": "3e771226-e2db-431e-8229-f51c9af88084",
   "metadata": {},
   "source": [
    "Solution >> String slicing in Python refers to the technique of extracting a portion of a string by specifying a range of indices. \n",
    "The syntax for string slicing is:\n",
    "string[start_value:stop_value:step_value]"
   ]
  },
  {
   "cell_type": "code",
   "execution_count": 9,
   "id": "b5f5e63b-e8d9-4c0a-8ab2-ab7011b0dbba",
   "metadata": {},
   "outputs": [
    {
     "name": "stdout",
     "output_type": "stream",
     "text": [
      "Data\n",
      "Analytics\n"
     ]
    }
   ],
   "source": [
    "course = \"Data Analytics\"\n",
    "text_1 = course[0:4]\n",
    "text_2 = course[5:14]\n",
    "print(text_1)\n",
    "print(text_2)"
   ]
  },
  {
   "cell_type": "code",
   "execution_count": null,
   "id": "e74e739c-b5b1-45f2-85a3-3999f49772bf",
   "metadata": {},
   "outputs": [],
   "source": []
  },
  {
   "cell_type": "markdown",
   "id": "0de3b944-279b-4aff-8fee-d5b0e15066f5",
   "metadata": {},
   "source": [
    "#4. How can you change the case of a string in Python, and can you provide examples of both making a string all uppercase and all lowercase?"
   ]
  },
  {
   "cell_type": "markdown",
   "id": "aa114294-fd6a-44ef-9ca0-4896b7e73a9a",
   "metadata": {},
   "source": [
    "solution >>  the case of a string can be changed using built-in string methods - upper() & lower()"
   ]
  },
  {
   "cell_type": "code",
   "execution_count": 11,
   "id": "e019d074-0d28-486a-82f8-cb279e6939b0",
   "metadata": {},
   "outputs": [
    {
     "name": "stdout",
     "output_type": "stream",
     "text": [
      "vishwa mohan sir of pwskills provides best mentorship\n",
      "VISHWA MOHAN SIR OF PWSKILLS PROVIDES BEST MENTORSHIP\n"
     ]
    }
   ],
   "source": [
    "String_1 = \"Vishwa Mohan Sir of PWskills provides best mentorship\"\n",
    "lowercase = String_1.lower()\n",
    "uppercase = String_1.upper()\n",
    "print(lowercase)\n",
    "print(uppercase)"
   ]
  },
  {
   "cell_type": "code",
   "execution_count": null,
   "id": "7d2656cb-f20b-487f-bf5c-d49c116fb8af",
   "metadata": {},
   "outputs": [],
   "source": []
  },
  {
   "cell_type": "markdown",
   "id": "621709c6-7588-40f7-b74a-90f6eedfdffc",
   "metadata": {},
   "source": [
    "#5. What does the split() method do in Python, and how can you split a string using a specific delimiter?"
   ]
  },
  {
   "cell_type": "markdown",
   "id": "700b079a-c4c3-4f9f-8ec8-0076d5875d02",
   "metadata": {},
   "source": [
    "Solution >>  the split() method is used to split a string into a list of substrings based on a specified delimiter"
   ]
  },
  {
   "cell_type": "code",
   "execution_count": 16,
   "id": "e0530074-4865-4151-b57e-8f46eb166290",
   "metadata": {},
   "outputs": [
    {
     "name": "stdout",
     "output_type": "stream",
     "text": [
      "['Ajay', ' data science', ' teacher']\n",
      "Ajay\n",
      " Data Science\n",
      " Teacher\n"
     ]
    }
   ],
   "source": [
    "data = \"Ajay, data science, teacher\"\n",
    "teacher_info = data.split(\",\")\n",
    "print(teacher_info)\n",
    "name = teacher_info[0]\n",
    "course = teacher_info[1].title()\n",
    "occupation = teacher_info[2].title()\n",
    "print(name)\n",
    "print(course)\n",
    "print(occupation)"
   ]
  },
  {
   "cell_type": "code",
   "execution_count": null,
   "id": "39a6b126-e3bc-4813-b9db-a389d5a77710",
   "metadata": {},
   "outputs": [],
   "source": []
  },
  {
   "cell_type": "code",
   "execution_count": null,
   "id": "59dce51a-1aef-407f-8495-fa7f59618189",
   "metadata": {},
   "outputs": [],
   "source": []
  },
  {
   "cell_type": "code",
   "execution_count": null,
   "id": "8059ee5f-85cb-4158-9524-8cbd06665a5b",
   "metadata": {},
   "outputs": [],
   "source": []
  },
  {
   "cell_type": "code",
   "execution_count": null,
   "id": "56322544-3a4c-430b-9881-1b74522ddd94",
   "metadata": {},
   "outputs": [],
   "source": []
  },
  {
   "cell_type": "code",
   "execution_count": null,
   "id": "92e72150-feab-43dd-a1d4-a0e1cfc8f2e4",
   "metadata": {},
   "outputs": [],
   "source": []
  }
 ],
 "metadata": {
  "kernelspec": {
   "display_name": "Python 3 (ipykernel)",
   "language": "python",
   "name": "python3"
  },
  "language_info": {
   "codemirror_mode": {
    "name": "ipython",
    "version": 3
   },
   "file_extension": ".py",
   "mimetype": "text/x-python",
   "name": "python",
   "nbconvert_exporter": "python",
   "pygments_lexer": "ipython3",
   "version": "3.10.8"
  }
 },
 "nbformat": 4,
 "nbformat_minor": 5
}
