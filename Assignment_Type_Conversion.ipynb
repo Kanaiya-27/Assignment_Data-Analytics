{
 "cells": [
  {
   "cell_type": "markdown",
   "id": "3c54db23-5a92-4bee-84e2-66c2ee3b6d26",
   "metadata": {},
   "source": [
    "#1 Convert an integer to a floating-point number."
   ]
  },
  {
   "cell_type": "code",
   "execution_count": 1,
   "id": "b24a4eb3-9f17-4788-962a-283fa573728c",
   "metadata": {},
   "outputs": [
    {
     "data": {
      "text/plain": [
       "5.0"
      ]
     },
     "execution_count": 1,
     "metadata": {},
     "output_type": "execute_result"
    }
   ],
   "source": [
    "num1 = 5\n",
    "float(num1)"
   ]
  },
  {
   "cell_type": "code",
   "execution_count": null,
   "id": "bf5bcab9-8210-4bf4-85fa-ba4b501d56be",
   "metadata": {},
   "outputs": [],
   "source": []
  },
  {
   "cell_type": "markdown",
   "id": "8d690400-66f2-4c6d-876e-055dc0d679d9",
   "metadata": {},
   "source": [
    "#2 Convert a float to an integer."
   ]
  },
  {
   "cell_type": "code",
   "execution_count": 2,
   "id": "29a7a5c2-f126-4526-97b7-0c88ba65ae48",
   "metadata": {},
   "outputs": [
    {
     "data": {
      "text/plain": [
       "20"
      ]
     },
     "execution_count": 2,
     "metadata": {},
     "output_type": "execute_result"
    }
   ],
   "source": [
    "num2 = 20.0\n",
    "int(num2)"
   ]
  },
  {
   "cell_type": "code",
   "execution_count": null,
   "id": "845615f5-0ef4-4e45-970a-3fddeb12d914",
   "metadata": {},
   "outputs": [],
   "source": []
  },
  {
   "cell_type": "markdown",
   "id": "c31df7e5-3c60-4bb8-9cb9-2b7bffe39260",
   "metadata": {},
   "source": [
    "#3 Convert an integer to a String."
   ]
  },
  {
   "cell_type": "code",
   "execution_count": 8,
   "id": "64afd96a-fe85-4e28-bd3f-2ba51820c252",
   "metadata": {},
   "outputs": [
    {
     "data": {
      "text/plain": [
       "'79'"
      ]
     },
     "execution_count": 8,
     "metadata": {},
     "output_type": "execute_result"
    }
   ],
   "source": [
    "num3 = 79\n",
    "str(num3)"
   ]
  },
  {
   "cell_type": "code",
   "execution_count": null,
   "id": "9d09e5fb-d8ff-469f-b7c4-795350d17d09",
   "metadata": {},
   "outputs": [],
   "source": []
  },
  {
   "cell_type": "markdown",
   "id": "d07924e9-d9e4-4da0-aa76-de11f9ce10c0",
   "metadata": {},
   "source": [
    "#4 Convert a list to a tuple."
   ]
  },
  {
   "cell_type": "code",
   "execution_count": 4,
   "id": "06f00e8e-1007-465f-a243-a246db1de16e",
   "metadata": {},
   "outputs": [],
   "source": [
    "list_1 = [1, 2, 3, \"Pwskills\", \"Data Analytic\", True, (4 +5j)]"
   ]
  },
  {
   "cell_type": "code",
   "execution_count": 3,
   "id": "b1c88875-09fe-4038-9fcc-725f4d72f5a6",
   "metadata": {},
   "outputs": [
    {
     "data": {
      "text/plain": [
       "list"
      ]
     },
     "execution_count": 3,
     "metadata": {},
     "output_type": "execute_result"
    }
   ],
   "source": [
    "type(list_1)"
   ]
  },
  {
   "cell_type": "code",
   "execution_count": 6,
   "id": "f65706c7-1bb9-41c0-b762-cb44d474e9d5",
   "metadata": {},
   "outputs": [],
   "source": [
    "s= tuple(list_1)"
   ]
  },
  {
   "cell_type": "code",
   "execution_count": 7,
   "id": "3e0193be-28ba-4c26-a0af-acb98066b8e5",
   "metadata": {},
   "outputs": [
    {
     "data": {
      "text/plain": [
       "tuple"
      ]
     },
     "execution_count": 7,
     "metadata": {},
     "output_type": "execute_result"
    }
   ],
   "source": [
    "type(s)"
   ]
  },
  {
   "cell_type": "code",
   "execution_count": null,
   "id": "219c3b28-76b8-4d4d-8241-50904510c3b6",
   "metadata": {},
   "outputs": [],
   "source": []
  },
  {
   "cell_type": "markdown",
   "id": "a7c923db-e570-43e8-8295-fcf3f71709b0",
   "metadata": {},
   "source": [
    "#5 Convert a tuple to a list."
   ]
  },
  {
   "cell_type": "code",
   "execution_count": 2,
   "id": "0d346322-56e3-498c-b39e-01b6d001a52b",
   "metadata": {},
   "outputs": [],
   "source": [
    "tup_1 = (\"Kanaiya\", \"Barrackpore\", 27, 7, 1992)"
   ]
  },
  {
   "cell_type": "code",
   "execution_count": null,
   "id": "7d488bbf-3483-4560-9d79-33d69f66ecff",
   "metadata": {},
   "outputs": [],
   "source": []
  },
  {
   "cell_type": "code",
   "execution_count": 9,
   "id": "454338c3-90c0-48cd-af25-5d7e713436af",
   "metadata": {},
   "outputs": [
    {
     "data": {
      "text/plain": [
       "tuple"
      ]
     },
     "execution_count": 9,
     "metadata": {},
     "output_type": "execute_result"
    }
   ],
   "source": [
    "type(tup_1)"
   ]
  },
  {
   "cell_type": "code",
   "execution_count": 3,
   "id": "1082dc57-38b1-44b2-b588-81b0fd99b8f2",
   "metadata": {},
   "outputs": [
    {
     "data": {
      "text/plain": [
       "['Kanaiya', 'Barrackpore', 27, 7, 1992]"
      ]
     },
     "execution_count": 3,
     "metadata": {},
     "output_type": "execute_result"
    }
   ],
   "source": [
    "S=list(tup_1)"
   ]
  },
  {
   "cell_type": "code",
   "execution_count": null,
   "id": "e8adecd8-f414-45cb-ac3e-4cd2f87df87a",
   "metadata": {},
   "outputs": [],
   "source": []
  },
  {
   "cell_type": "code",
   "execution_count": null,
   "id": "97e0a961-590b-4590-b374-6690432c7708",
   "metadata": {},
   "outputs": [],
   "source": []
  },
  {
   "cell_type": "code",
   "execution_count": null,
   "id": "c6057c7d-0aff-4004-a939-07f4d39e952b",
   "metadata": {},
   "outputs": [],
   "source": []
  },
  {
   "cell_type": "code",
   "execution_count": null,
   "id": "6712af05-2b81-4db3-89c5-bc1fe93f9bbe",
   "metadata": {},
   "outputs": [],
   "source": []
  },
  {
   "cell_type": "code",
   "execution_count": null,
   "id": "1cb66b95-4010-4b62-b222-91c61371102d",
   "metadata": {},
   "outputs": [],
   "source": []
  },
  {
   "cell_type": "markdown",
   "id": "cf62b930-a09f-4a14-984f-78dc74aac625",
   "metadata": {},
   "source": [
    "#6 Convert a decimal number to binary."
   ]
  },
  {
   "cell_type": "code",
   "execution_count": 10,
   "id": "bc1b76de-4e1c-425a-af39-79355097a11a",
   "metadata": {},
   "outputs": [
    {
     "data": {
      "text/plain": [
       "'0b1100100'"
      ]
     },
     "execution_count": 10,
     "metadata": {},
     "output_type": "execute_result"
    }
   ],
   "source": [
    "num6 = 100\n",
    "bin(num6)"
   ]
  },
  {
   "cell_type": "markdown",
   "id": "5ea232a4-c050-491a-8e72-551320384569",
   "metadata": {},
   "source": [
    "#7 Convert a non zero number to boolean."
   ]
  },
  {
   "cell_type": "code",
   "execution_count": 12,
   "id": "526f6c96-68fe-46cb-954b-77a3ce3b035b",
   "metadata": {},
   "outputs": [
    {
     "data": {
      "text/plain": [
       "True"
      ]
     },
     "execution_count": 12,
     "metadata": {},
     "output_type": "execute_result"
    }
   ],
   "source": [
    "num7 = 1\n",
    "bool(num7)"
   ]
  }
 ],
 "metadata": {
  "kernelspec": {
   "display_name": "Python 3 (ipykernel)",
   "language": "python",
   "name": "python3"
  },
  "language_info": {
   "codemirror_mode": {
    "name": "ipython",
    "version": 3
   },
   "file_extension": ".py",
   "mimetype": "text/x-python",
   "name": "python",
   "nbconvert_exporter": "python",
   "pygments_lexer": "ipython3",
   "version": "3.10.8"
  }
 },
 "nbformat": 4,
 "nbformat_minor": 5
}
