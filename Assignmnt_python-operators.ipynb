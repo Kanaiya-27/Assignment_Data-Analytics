{
 "cells": [
  {
   "cell_type": "markdown",
   "id": "88fd92db-da25-4ad3-9069-bfe63d2e9688",
   "metadata": {},
   "source": [
    "#1 Calculate the sum, difference, product, and quotient of two numbers.\n"
   ]
  },
  {
   "cell_type": "code",
   "execution_count": 1,
   "id": "b51c7ed8-d9df-4b16-b2f6-0559bee8c88b",
   "metadata": {},
   "outputs": [
    {
     "name": "stdout",
     "output_type": "stream",
     "text": [
      "Sum: 15\n",
      "Difference: 5\n",
      "Product: 50\n",
      "Quotient: 2.0\n"
     ]
    }
   ],
   "source": [
    "num1 = 10\n",
    "num2 = 5\n",
    "\n",
    "sum_1 = num1 + num2\n",
    "diff = num1 - num2\n",
    "prod = num1 * num2\n",
    "quot = num1 / num2\n",
    "\n",
    "print(\"Sum:\", sum_1)\n",
    "print(\"Difference:\", diff)\n",
    "print(\"Product:\", prod)\n",
    "print(\"Quotient:\", quot)"
   ]
  },
  {
   "cell_type": "code",
   "execution_count": null,
   "id": "0f7a6686-3b99-4bab-a0a8-69362df4e9cb",
   "metadata": {},
   "outputs": [],
   "source": []
  },
  {
   "cell_type": "markdown",
   "id": "947787ac-52c0-4e9f-ad47-aed15786d438",
   "metadata": {},
   "source": [
    "#2. Perform various assignment operations on a variable."
   ]
  },
  {
   "cell_type": "code",
   "execution_count": 4,
   "id": "67ddfd97-8b49-4422-8e79-8226aabedcd8",
   "metadata": {},
   "outputs": [
    {
     "name": "stdout",
     "output_type": "stream",
     "text": [
      "15\n",
      "13\n",
      "20\n",
      "5.555555555555555\n",
      "7\n",
      "1\n",
      "81\n"
     ]
    }
   ],
   "source": [
    "#Addiion Assignment Operration\n",
    "num1 = 10\n",
    "num1 += 5 \n",
    "print(num1)\n",
    "\n",
    "#Substraction Assignment Operation\n",
    "num2 = 20\n",
    "num2 -= 7\n",
    "print(num2)\n",
    "\n",
    "#Multiplication Assignment Operation\n",
    "num3 = 5\n",
    "num3 *= 4\n",
    "print(num3)\n",
    "\n",
    "#Division Assignment Operation\n",
    "num4 = 50\n",
    "num4 /= 9\n",
    "print(num4)\n",
    "\n",
    "#Floor Division Assigment Operation\n",
    "num5 = 50\n",
    "num5 //= 7\n",
    "print(num5)\n",
    "\n",
    "#Modulus Assignment Operation\n",
    "num6 = 21\n",
    "num6 %= 5\n",
    "print(num6)\n",
    "\n",
    "#Exponential Assignment operation\n",
    "num7 = 3\n",
    "num7 **= 4\n",
    "print(num7) "
   ]
  },
  {
   "cell_type": "code",
   "execution_count": null,
   "id": "b52ff8ab-6fc0-490c-bd9c-5ec4c91114a5",
   "metadata": {},
   "outputs": [],
   "source": []
  },
  {
   "cell_type": "markdown",
   "id": "7e94a6c3-41f8-4114-a7c5-7770d6b7e4f6",
   "metadata": {},
   "source": [
    "#3. Compare two numbers and print the results."
   ]
  },
  {
   "cell_type": "code",
   "execution_count": 7,
   "id": "54537cb9-e2d6-49db-913c-89d2318689fa",
   "metadata": {},
   "outputs": [
    {
     "name": "stdin",
     "output_type": "stream",
     "text": [
      "Enter first number for comparison 30\n",
      "Enter second number for comparison 30\n"
     ]
    },
    {
     "name": "stdout",
     "output_type": "stream",
     "text": [
      "30  is equals to  30\n"
     ]
    }
   ],
   "source": [
    "num1 = int(input(\"Enter first number for comparison\"))\n",
    "num2 = int(input(\"Enter second number for comparison\"))\n",
    "if num1 > num2:\n",
    "    print(num1, \" is greater than \", num2)\n",
    "elif num1 < num2:\n",
    "    print(num1, \" is lesser than \", num2)\n",
    "else:\n",
    "    print(num1, \" is equals to \", num2)"
   ]
  },
  {
   "cell_type": "code",
   "execution_count": null,
   "id": "f2a4e5a6-24be-4996-8d94-80d6a1d88d2e",
   "metadata": {},
   "outputs": [],
   "source": []
  },
  {
   "cell_type": "markdown",
   "id": "b74d1f28-d75a-43cc-960c-957aaa071f8d",
   "metadata": {},
   "source": [
    "#4. Check conditions using logical operators."
   ]
  },
  {
   "cell_type": "code",
   "execution_count": 14,
   "id": "e28c12d2-12bf-40d7-89c2-0da561bf577c",
   "metadata": {},
   "outputs": [
    {
     "name": "stdin",
     "output_type": "stream",
     "text": [
      "Enter first number for comparison 65\n",
      "Enter second number for comparison 25\n",
      "Enter third number for comparison 40\n"
     ]
    },
    {
     "name": "stdout",
     "output_type": "stream",
     "text": [
      "num1 is the largest\n"
     ]
    }
   ],
   "source": [
    "num1 = int(input(\"Enter first number for comparison\"))\n",
    "num2 = int(input(\"Enter second number for comparison\"))\n",
    "num3 = int(input(\"Enter third number for comparison\"))\n",
    "\n",
    "if num1 > num2 and num1 > num3:\n",
    "    print(\"num1 is the largest\")\n",
    "elif num2 > num1 and num2 > num3:\n",
    "    print(\"num2 is the largest\")\n",
    "elif num3 > num1 or num3 > num2:\n",
    "    print(\"num3 is greater than at least one of num1 or num2\")\n",
    "else:\n",
    "    print(\"No condition is satisfied\")"
   ]
  },
  {
   "cell_type": "code",
   "execution_count": null,
   "id": "628a2d39-9219-483f-a914-8847095532d5",
   "metadata": {},
   "outputs": [],
   "source": []
  },
  {
   "cell_type": "markdown",
   "id": "669e6db8-bfcc-4a12-8ac4-ad4a3197f495",
   "metadata": {},
   "source": [
    "#5. Check the identity of variables."
   ]
  },
  {
   "cell_type": "code",
   "execution_count": 15,
   "id": "a38180bd-3aa9-48c4-9882-8c0bc30aa924",
   "metadata": {},
   "outputs": [
    {
     "name": "stdout",
     "output_type": "stream",
     "text": [
      "True\n",
      "False\n"
     ]
    }
   ],
   "source": [
    "num1 = 10\n",
    "num2 = 10\n",
    "num3 = 15\n",
    "\n",
    "print(num1 is num2)\n",
    "print(num1 is num3)"
   ]
  },
  {
   "cell_type": "code",
   "execution_count": null,
   "id": "5826f059-8755-48ed-b217-c36b033e3346",
   "metadata": {},
   "outputs": [],
   "source": []
  },
  {
   "cell_type": "markdown",
   "id": "1d690ad0-c106-40cc-8b2e-47997ad0f5e4",
   "metadata": {},
   "source": [
    "#6. Perform bitwise operations on any two integers."
   ]
  },
  {
   "cell_type": "code",
   "execution_count": 27,
   "id": "169597a9-3fb2-405b-a9d6-c3513970d522",
   "metadata": {},
   "outputs": [
    {
     "name": "stdout",
     "output_type": "stream",
     "text": [
      "The Output of AND operation is :  0\n",
      "The Output of OR operation is :  15\n",
      "The Output of XOR operation is :  15\n",
      "The Output of NOT operation is :  -11\n",
      "The Output of LEFT SHIFT operation is :  20\n",
      "The Output of RIGHT SHIFT operation is :  1\n"
     ]
    }
   ],
   "source": [
    "num1 = 10   # 1010 in binary\n",
    "num2 = 5    # 0101 in binary\n",
    "\n",
    "result_1 = num1 & num2\n",
    "result_2 = num1 | num2\n",
    "result_3 = num1 ^ num2\n",
    "result_4 = ~num1\n",
    "result_5 = num2 << 2\n",
    "result_6 = num2 >> 2\n",
    "print(\"The Output of AND operation is : \", result_1)  # Output: 0 (0000 in binary)\n",
    "print(\"The Output of OR operation is : \", result_2)  # Output: 15 (1111 in binary)\n",
    "print(\"The Output of XOR operation is : \", result_3)  # Output: 15 (1111 in binary)\n",
    "print(\"The Output of NOT operation is : \", result_4)  \n",
    "print(\"The Output of LEFT SHIFT operation is : \", result_5)  \n",
    "print(\"The Output of RIGHT SHIFT operation is : \", result_6)  \n",
    "\n"
   ]
  },
  {
   "cell_type": "code",
   "execution_count": null,
   "id": "1720080b-057f-4b7f-8dbd-65db3cd2907e",
   "metadata": {},
   "outputs": [],
   "source": []
  },
  {
   "cell_type": "markdown",
   "id": "0e9ca75d-91e9-4670-9fc2-4cbc2e6e2284",
   "metadata": {},
   "source": [
    "#7. Use Unary operators to change the sign of a number."
   ]
  },
  {
   "cell_type": "code",
   "execution_count": 29,
   "id": "dabb77a4-54bf-4b71-b800-db01af9d2ed9",
   "metadata": {},
   "outputs": [
    {
     "name": "stdout",
     "output_type": "stream",
     "text": [
      "20 is changed to :  -20\n",
      "-15 is changed to :  15\n"
     ]
    }
   ],
   "source": [
    "num1 = 20\n",
    "num2 = -15\n",
    "\n",
    "result1 = -num1\n",
    "result2 = -num2\n",
    "\n",
    "print(num1, \"is changed to : \", result1)\n",
    "print(num2, \"is changed to : \", result2)"
   ]
  },
  {
   "cell_type": "code",
   "execution_count": null,
   "id": "7078e086-2e64-4dac-bc6d-1cc2bfab6eb3",
   "metadata": {},
   "outputs": [],
   "source": []
  },
  {
   "cell_type": "markdown",
   "id": "dd4fe3a0-571f-4808-ae94-a4414736480e",
   "metadata": {},
   "source": [
    "#8. Use the ternary operator to assign Values based on conditions."
   ]
  },
  {
   "cell_type": "code",
   "execution_count": 33,
   "id": "256b09ce-b2ae-4f38-bd3b-a6dad93cc4c3",
   "metadata": {},
   "outputs": [
    {
     "name": "stdin",
     "output_type": "stream",
     "text": [
      "Enter your Age :  11\n"
     ]
    },
    {
     "name": "stdout",
     "output_type": "stream",
     "text": [
      "Eligibility to vote :  Not Eligible\n"
     ]
    }
   ],
   "source": [
    "age = int(input(\"Enter your Age : \"))\n",
    "\n",
    "eligibility = \"Eligible\" if age >= 18 else \"Not Eligible\"\n",
    "print(\"Eligibility to vote : \", eligibility)"
   ]
  },
  {
   "cell_type": "code",
   "execution_count": null,
   "id": "8966db16-981f-4249-834b-2d03f9c867b7",
   "metadata": {},
   "outputs": [],
   "source": []
  },
  {
   "cell_type": "code",
   "execution_count": null,
   "id": "4ae93220-a174-449c-946e-c0166d07520b",
   "metadata": {},
   "outputs": [],
   "source": []
  },
  {
   "cell_type": "code",
   "execution_count": null,
   "id": "a01fe392-bf60-4eb8-97f0-4b8d0c9322ce",
   "metadata": {},
   "outputs": [],
   "source": []
  },
  {
   "cell_type": "code",
   "execution_count": null,
   "id": "45b72582-097b-4474-97d8-b847548a1b79",
   "metadata": {},
   "outputs": [],
   "source": []
  }
 ],
 "metadata": {
  "kernelspec": {
   "display_name": "Python 3 (ipykernel)",
   "language": "python",
   "name": "python3"
  },
  "language_info": {
   "codemirror_mode": {
    "name": "ipython",
    "version": 3
   },
   "file_extension": ".py",
   "mimetype": "text/x-python",
   "name": "python",
   "nbconvert_exporter": "python",
   "pygments_lexer": "ipython3",
   "version": "3.10.8"
  }
 },
 "nbformat": 4,
 "nbformat_minor": 5
}
