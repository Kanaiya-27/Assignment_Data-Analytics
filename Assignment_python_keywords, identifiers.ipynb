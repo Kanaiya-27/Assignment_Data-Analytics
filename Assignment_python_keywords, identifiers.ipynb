{
 "cells": [
  {
   "cell_type": "markdown",
   "id": "2bb37065-084f-440a-94ee-686287a17d9c",
   "metadata": {},
   "source": [
    "# 1. Explain the significance of Python keywords and provide examples of five keywords"
   ]
  },
  {
   "cell_type": "markdown",
   "id": "a3755380-a971-4fd3-a59c-19e0c51fbe42",
   "metadata": {},
   "source": [
    "Solution>> Keywords in Python are reserved words that have predefined meanings and cannot be used as identifiers (such as variable names, function names, etc.). They play a crucial role in defining the syntax and structure of the language. "
   ]
  },
  {
   "cell_type": "code",
   "execution_count": 8,
   "id": "ba8e77aa-c3b7-43b4-b2c4-0a2059bb7459",
   "metadata": {},
   "outputs": [
    {
     "name": "stdin",
     "output_type": "stream",
     "text": [
      "Enter your age 32\n"
     ]
    },
    {
     "name": "stdout",
     "output_type": "stream",
     "text": [
      "you correspond to Prime Working Age Group\n"
     ]
    }
   ],
   "source": [
    "# Examples >> \"if\", \"elif\" and \"else\" >> These keywords are used for conditional branching in Python\n",
    "x = int(input(\"Enter your age\"))\n",
    "if x <= 14:\n",
    "    print(\"You are a children\")\n",
    "elif  24 >= x > 14:\n",
    "    print(\"you correspond to early working age group\")\n",
    "elif 54 >= x >= 25:\n",
    "    print(\"you correspond to Prime Working Age Group\")\n",
    "elif 64 >=x >= 55:\n",
    "    print(\"you correspond to Mature Working Age Group\")\n",
    "else:\n",
    "    print(\"you are elderly\")"
   ]
  },
  {
   "cell_type": "code",
   "execution_count": 11,
   "id": "d187ffc8-10a1-4903-8c51-b8d8ebc9dc47",
   "metadata": {},
   "outputs": [
    {
     "name": "stdout",
     "output_type": "stream",
     "text": [
      "0\n",
      "1\n",
      "2\n",
      "3\n",
      "4\n",
      "5\n",
      "6\n",
      "7\n",
      "8\n",
      "9\n"
     ]
    }
   ],
   "source": [
    "# \"for\" >> The for keyword is used to create loops in Python.\n",
    "for i in range(10):\n",
    "    print(i)"
   ]
  },
  {
   "cell_type": "code",
   "execution_count": 12,
   "id": "478425ec-6446-49ce-a8f1-8468cfee8028",
   "metadata": {},
   "outputs": [
    {
     "name": "stdout",
     "output_type": "stream",
     "text": [
      "1\n",
      "2\n",
      "3\n",
      "4\n",
      "5\n",
      "6\n",
      "7\n",
      "8\n",
      "9\n",
      "10\n",
      "11\n",
      "12\n",
      "13\n",
      "14\n"
     ]
    }
   ],
   "source": [
    "# \"while\" >> Similar to for, while is another keyword used to create loops. However, while is used when you want to repeat a block of code as long as a condition is true.\n",
    "n = 15\n",
    "i = 1\n",
    "while i < n:\n",
    "    print(i)\n",
    "    i += 1"
   ]
  },
  {
   "cell_type": "code",
   "execution_count": 17,
   "id": "2fc890c8-1f39-4ae2-bb0d-35382a107d6d",
   "metadata": {},
   "outputs": [
    {
     "name": "stdout",
     "output_type": "stream",
     "text": [
      "Hello World!, My name is Kanaiya, Age 32 .\n"
     ]
    }
   ],
   "source": [
    "#\"print\" >> Used to output text or values to the console\n",
    "name = \"Kanaiya\"\n",
    "Age = 32\n",
    "print(\"Hello World!, My name is\", name+\",\", \"Age\", Age,\".\")"
   ]
  },
  {
   "cell_type": "markdown",
   "id": "ece38b3d-cb03-4f12-b8fe-02e2d484d90b",
   "metadata": {},
   "source": [
    "# 2 Descri0e the rules for defining identifiers in Python and provide an example"
   ]
  },
  {
   "cell_type": "markdown",
   "id": "4e467f9c-133c-49df-a1f9-d7e3727090ef",
   "metadata": {},
   "source": [
    "Solution >> \n",
    "Rules for Python Identifiers:\n",
    "\n",
    "Identifiers can contain letters (both uppercase and lowercase), digits, and underscore _.\n",
    "\n",
    "They must begin with a letter (a-z, A-Z) or an underscore _. They cannot begin with a digit.\n",
    "\n",
    "After the first character, identifiers can have any combination of letters, digits, or underscores.\n",
    "\n",
    "Python is case-sensitive. This means that \"variable\", \"Variable\", and \"VARIABLE\" are all different identifiers.\n",
    "\n",
    "Identifiers cannot be the same as Python keywords or reserved words. These are words that have special meaning in Python and are used to define the syntax and structure of the language.\n",
    "\n",
    "# valid\n",
    "name = \"Pwskills\"      # Valid\n",
    "age = 32           # Valid\n",
    "total_marks = 95    # Valid\n",
    "_underscore_var = 10    # Valid (starting with an underscore)\n",
    "my_var_2 = 20       # Valid (mix of letters, digits, and underscore)\n",
    "\n",
    "# invalid\n",
    "2nd_name = \"Bob\"    # Invalid (starts with a digit)\n",
    "my-name = \"Charlie\" # Invalid (contains a hyphen)\n",
    "class = \"Python\"    # Invalid (reserved keyword)"
   ]
  },
  {
   "cell_type": "code",
   "execution_count": null,
   "id": "a4e99352-15ba-4f81-94d3-e60f83977ff4",
   "metadata": {},
   "outputs": [],
   "source": []
  },
  {
   "cell_type": "markdown",
   "id": "51381e85-b370-4e5e-b91f-168e64a3113b",
   "metadata": {},
   "source": [
    "# 3. What are comments in Python, and why are they useful? Provide an example"
   ]
  },
  {
   "cell_type": "markdown",
   "id": "63dd4769-ff37-4fcd-9c97-58423c904ff7",
   "metadata": {},
   "source": [
    "Solution >> Comments in Python are annotations within the code that are ignored by the Python interpreter. They are used to add explanations, notes, or reminders directly within the source code.\n",
    "Comments are extremely useful for making the code more understandable to others (including your future self) who might read it."
   ]
  },
  {
   "cell_type": "code",
   "execution_count": 18,
   "id": "cef5556e-50f4-4e5d-8f58-c1dcab502c3c",
   "metadata": {},
   "outputs": [
    {
     "name": "stdout",
     "output_type": "stream",
     "text": [
      "The sum is: 30\n"
     ]
    }
   ],
   "source": [
    "# Calculate the sum of two numbers\n",
    "num1 = 10\n",
    "num2 = 20\n",
    "sum = num1 + num2  # Assign the sum of num1 and num2 to the variable sum\n",
    "print(\"The sum is:\", sum)  # Print the result"
   ]
  },
  {
   "cell_type": "code",
   "execution_count": null,
   "id": "a1740fb5-3cd0-44b0-a9e1-5dc1da3a0b82",
   "metadata": {},
   "outputs": [],
   "source": []
  },
  {
   "cell_type": "markdown",
   "id": "a64fd099-8892-4e38-aeb6-e4e39335383c",
   "metadata": {},
   "source": [
    "# 4. Why is proper indentation important in Python?"
   ]
  },
  {
   "cell_type": "markdown",
   "id": "6332235f-777d-4e28-96d5-4bdd1c4bfe3e",
   "metadata": {},
   "source": [
    "Solution >> Proper indentation in Python is crucial because it is used to define the structure and scope of the code. In Python, indentation is not just for readability—it is a fundamental part of the syntax. Consistent and proper indentation is crucial for the interpreter to understand the logical structure of the code."
   ]
  },
  {
   "cell_type": "code",
   "execution_count": null,
   "id": "2365f392-8d2d-4d57-8420-63f65bd02ee8",
   "metadata": {},
   "outputs": [],
   "source": []
  },
  {
   "cell_type": "code",
   "execution_count": null,
   "id": "5a71c801-6630-4312-9303-2df41cd26975",
   "metadata": {},
   "outputs": [],
   "source": [
    "# 5. What happens if indentation is incorrect in Python?"
   ]
  },
  {
   "cell_type": "markdown",
   "id": "c7aa4545-97f5-4b2d-8ee3-92e86e169da2",
   "metadata": {},
   "source": [
    "Solution >> If the indentation is incorrect in Python, it can lead to syntax errors, unexpected behavior, or logical errors in our code. The most common issue with incorrect indentation is the \"IndentationError\" or \"SyntaxError\"."
   ]
  },
  {
   "cell_type": "code",
   "execution_count": 19,
   "id": "884d5b05-74af-48b1-b3f7-e111c3277ea9",
   "metadata": {},
   "outputs": [
    {
     "ename": "IndentationError",
     "evalue": "expected an indented block after 'if' statement on line 1 (834587428.py, line 2)",
     "output_type": "error",
     "traceback": [
      "\u001b[0;36m  Cell \u001b[0;32mIn[19], line 2\u001b[0;36m\u001b[0m\n\u001b[0;31m    print(\"Incorrect indentation\")\u001b[0m\n\u001b[0m    ^\u001b[0m\n\u001b[0;31mIndentationError\u001b[0m\u001b[0;31m:\u001b[0m expected an indented block after 'if' statement on line 1\n"
     ]
    }
   ],
   "source": [
    "if True:\n",
    "print(\"Incorrect indentation\")"
   ]
  },
  {
   "cell_type": "code",
   "execution_count": null,
   "id": "4800d2e3-3b49-441c-8564-231d8525b8ab",
   "metadata": {},
   "outputs": [],
   "source": []
  },
  {
   "cell_type": "code",
   "execution_count": null,
   "id": "e08fc25b-cc49-46d8-84bf-80a6aa0ed097",
   "metadata": {},
   "outputs": [],
   "source": [
    "# 6. Differentiate 0etween expression and statement in Python with examples"
   ]
  },
  {
   "cell_type": "markdown",
   "id": "ccf6f99c-7d8c-4633-b86e-49f3ab68ea0e",
   "metadata": {},
   "source": [
    "Solution >> \n",
    "An expression is a combination of variables, operators, and method calls that evaluates to a single value. In other words, an expression produces a value.\n",
    "\n",
    "Examples of Expression :\n",
    "\n",
    "Arithmetic Expression - \n",
    "X = 10\n",
    "Y = 5    \n",
    "sum = X + Y #Addition is an expression\n",
    "\n",
    "A statement is a complete line of code that performs an action. It can be a simple assignment, a loop, a conditional execution, or a function definition.\n",
    "\n",
    "Examples of Statement :\n",
    "\n",
    "if x > 0:\n",
    "    print(\"Positive\") #print statement within if block\n",
    "else:\n",
    "    print(\"Non-positive\")    #print statement within else block\n",
    "    "
   ]
  },
  {
   "cell_type": "code",
   "execution_count": null,
   "id": "0bfa8a2a-fb8c-47ef-8e61-e0a828fd4849",
   "metadata": {},
   "outputs": [],
   "source": []
  }
 ],
 "metadata": {
  "kernelspec": {
   "display_name": "Python 3 (ipykernel)",
   "language": "python",
   "name": "python3"
  },
  "language_info": {
   "codemirror_mode": {
    "name": "ipython",
    "version": 3
   },
   "file_extension": ".py",
   "mimetype": "text/x-python",
   "name": "python",
   "nbconvert_exporter": "python",
   "pygments_lexer": "ipython3",
   "version": "3.10.8"
  }
 },
 "nbformat": 4,
 "nbformat_minor": 5
}
